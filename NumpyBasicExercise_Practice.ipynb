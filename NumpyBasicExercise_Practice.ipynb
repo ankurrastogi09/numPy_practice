{
 "cells": [
  {
   "cell_type": "code",
   "execution_count": 92,
   "metadata": {},
   "outputs": [],
   "source": [
    "import numpy as np"
   ]
  },
  {
   "cell_type": "code",
   "execution_count": 2,
   "metadata": {},
   "outputs": [
    {
     "name": "stdout",
     "output_type": "stream",
     "text": [
      "NumPy version:  1.17.2\n",
      "blas_mkl_info:\n",
      "    libraries = ['mkl_rt', 'pthread']\n",
      "    library_dirs = ['/Users/ankurrastogi/opt/anaconda3/lib']\n",
      "    define_macros = [('SCIPY_MKL_H', None), ('HAVE_CBLAS', None)]\n",
      "    include_dirs = ['/Users/ankurrastogi/opt/anaconda3/include']\n",
      "blas_opt_info:\n",
      "    libraries = ['mkl_rt', 'pthread']\n",
      "    library_dirs = ['/Users/ankurrastogi/opt/anaconda3/lib']\n",
      "    define_macros = [('SCIPY_MKL_H', None), ('HAVE_CBLAS', None)]\n",
      "    include_dirs = ['/Users/ankurrastogi/opt/anaconda3/include']\n",
      "lapack_mkl_info:\n",
      "    libraries = ['mkl_rt', 'pthread']\n",
      "    library_dirs = ['/Users/ankurrastogi/opt/anaconda3/lib']\n",
      "    define_macros = [('SCIPY_MKL_H', None), ('HAVE_CBLAS', None)]\n",
      "    include_dirs = ['/Users/ankurrastogi/opt/anaconda3/include']\n",
      "lapack_opt_info:\n",
      "    libraries = ['mkl_rt', 'pthread']\n",
      "    library_dirs = ['/Users/ankurrastogi/opt/anaconda3/lib']\n",
      "    define_macros = [('SCIPY_MKL_H', None), ('HAVE_CBLAS', None)]\n",
      "    include_dirs = ['/Users/ankurrastogi/opt/anaconda3/include']\n",
      "NumPy configuration:  None\n"
     ]
    }
   ],
   "source": [
    "# 1. Write a NumPy program to get the numpy version and show numpy build configuration.\n",
    "print(\"NumPy version: \", np.__version__)\n",
    "print(\"NumPy configuration: \", np.__config__.show())"
   ]
  },
  {
   "cell_type": "code",
   "execution_count": 3,
   "metadata": {},
   "outputs": [
    {
     "name": "stdout",
     "output_type": "stream",
     "text": [
      "add(x1, x2, /, out=None, *, where=True, casting='same_kind', order='K', dtype=None, subok=True[, signature, extobj])\n",
      "\n",
      "Add arguments element-wise.\n",
      "\n",
      "Parameters\n",
      "----------\n",
      "x1, x2 : array_like\n",
      "    The arrays to be added. If ``x1.shape != x2.shape``, they must be broadcastable to a common shape (which becomes the shape of the output).\n",
      "out : ndarray, None, or tuple of ndarray and None, optional\n",
      "    A location into which the result is stored. If provided, it must have\n",
      "    a shape that the inputs broadcast to. If not provided or `None`,\n",
      "    a freshly-allocated array is returned. A tuple (possible only as a\n",
      "    keyword argument) must have length equal to the number of outputs.\n",
      "where : array_like, optional\n",
      "    This condition is broadcast over the input. At locations where the\n",
      "    condition is True, the `out` array will be set to the ufunc result.\n",
      "    Elsewhere, the `out` array will retain its original value.\n",
      "    Note that if an uninitialized `out` array is created via the default\n",
      "    ``out=None``, locations within it where the condition is False will\n",
      "    remain uninitialized.\n",
      "**kwargs\n",
      "    For other keyword-only arguments, see the\n",
      "    :ref:`ufunc docs <ufuncs.kwargs>`.\n",
      "\n",
      "Returns\n",
      "-------\n",
      "add : ndarray or scalar\n",
      "    The sum of `x1` and `x2`, element-wise.\n",
      "    This is a scalar if both `x1` and `x2` are scalars.\n",
      "\n",
      "Notes\n",
      "-----\n",
      "Equivalent to `x1` + `x2` in terms of array broadcasting.\n",
      "\n",
      "Examples\n",
      "--------\n",
      ">>> np.add(1.0, 4.0)\n",
      "5.0\n",
      ">>> x1 = np.arange(9.0).reshape((3, 3))\n",
      ">>> x2 = np.arange(3.0)\n",
      ">>> np.add(x1, x2)\n",
      "array([[  0.,   2.,   4.],\n",
      "       [  3.,   5.,   7.],\n",
      "       [  6.,   8.,  10.]])\n",
      "None\n"
     ]
    }
   ],
   "source": [
    "# 2. Write a NumPy program to  get help on the add function. \n",
    "print(np.info(np.add))"
   ]
  },
  {
   "cell_type": "code",
   "execution_count": 4,
   "metadata": {},
   "outputs": [
    {
     "name": "stdout",
     "output_type": "stream",
     "text": [
      "Given array:\n",
      "[1 2 3 4]\n",
      "True\n",
      "Given array:\n",
      "[1 2 0 9]\n",
      "False\n",
      "Given array:\n",
      "[0 0 0 0]\n",
      "False\n"
     ]
    }
   ],
   "source": [
    "# 3. Write a NumPy program to test whether none of the elements of a given array is zero. \n",
    "\n",
    "x = np.array([1,2,3,4])\n",
    "print(\"Given array:\")\n",
    "print(x)\n",
    "print(np.all(x))\n",
    "\n",
    "y = np.array([1,2,0,9])\n",
    "print(\"Given array:\")\n",
    "print(y)\n",
    "print(np.all(y))\n",
    "\n",
    "z = np.array([0,0,0,0])\n",
    "print(\"Given array:\")\n",
    "print(z)\n",
    "print(np.all(z))"
   ]
  },
  {
   "cell_type": "code",
   "execution_count": 5,
   "metadata": {},
   "outputs": [
    {
     "name": "stdout",
     "output_type": "stream",
     "text": [
      "Given array:\n",
      "[1 2 3 4]\n",
      "True\n",
      "Given array:\n",
      "[1 2 0 9]\n",
      "True\n",
      "Given array:\n",
      "[0 0 0 0]\n",
      "False\n"
     ]
    }
   ],
   "source": [
    "# 4. Write a NumPy program to test whether any of the elements of a given array is non-zero.\n",
    "\n",
    "x = np.array([1,2,3,4])\n",
    "print(\"Given array:\")\n",
    "print(x)\n",
    "print(np.any(x))\n",
    "\n",
    "y = np.array([1,2,0,9])\n",
    "print(\"Given array:\")\n",
    "print(y)\n",
    "print(np.any(y))\n",
    "\n",
    "z = np.array([0,0,0,0])\n",
    "print(\"Given array:\")\n",
    "print(z)\n",
    "print(np.any(z))"
   ]
  },
  {
   "cell_type": "code",
   "execution_count": 6,
   "metadata": {},
   "outputs": [
    {
     "name": "stdout",
     "output_type": "stream",
     "text": [
      "Given array:\n",
      "[1 2 3 4]\n",
      "[False False False False]\n",
      "[False False False False]\n",
      "Given array:\n",
      "[ 1. nan  3.  4.]\n",
      "[False False False False]\n",
      "[False  True False False]\n",
      "Given array:\n",
      "[ 1. nan  3. inf]\n",
      "[False False False  True]\n",
      "[False  True False False]\n"
     ]
    }
   ],
   "source": [
    "# 5. Write a NumPy program to test a given array element-wise for finiteness (not infinity or not a Number).\n",
    "\n",
    "x = np.array([1,2,3,4])\n",
    "print(\"Given array:\")\n",
    "print(x)\n",
    "print(np.isinf(x))\n",
    "print(np.isnan(x))\n",
    "\n",
    "y = np.array([1,np.nan,3,4])\n",
    "print(\"Given array:\")\n",
    "print(y)\n",
    "print(np.isinf(y))\n",
    "print(np.isnan(y))\n",
    "\n",
    "z = np.array([1,np.nan,3,np.inf])\n",
    "print(\"Given array:\")\n",
    "print(z)\n",
    "print(np.isinf(z))\n",
    "print(np.isnan(z))"
   ]
  },
  {
   "cell_type": "code",
   "execution_count": 7,
   "metadata": {},
   "outputs": [
    {
     "name": "stdout",
     "output_type": "stream",
     "text": [
      "Given array:\n",
      "[1 2 3 4]\n",
      "[False False False False]\n",
      "Given array:\n",
      "[ 1. nan  3.  4.]\n",
      "[False False False False]\n",
      "Given array:\n",
      "[ 1. nan  3. inf]\n",
      "[False False False  True]\n"
     ]
    }
   ],
   "source": [
    "# 6. Write a NumPy program to test element-wise for positive or negative infinity. \n",
    "\n",
    "x = np.array([1,2,3,4])\n",
    "print(\"Given array:\")\n",
    "print(x)\n",
    "print(np.isinf(x))\n",
    "\n",
    "y = np.array([1,np.nan,3,4])\n",
    "print(\"Given array:\")\n",
    "print(y)\n",
    "print(np.isinf(y))\n",
    "\n",
    "z = np.array([1,np.nan,3,np.inf])\n",
    "print(\"Given array:\")\n",
    "print(z)\n",
    "print(np.isinf(z))"
   ]
  },
  {
   "cell_type": "code",
   "execution_count": 8,
   "metadata": {},
   "outputs": [
    {
     "name": "stdout",
     "output_type": "stream",
     "text": [
      "Given array:\n",
      "[1 2 3 4]\n",
      "[False False False False]\n",
      "Given array:\n",
      "[ 1. nan  3.  4.]\n",
      "[False  True False False]\n",
      "Given array:\n",
      "[ 1. nan  3. inf]\n",
      "[False  True False False]\n"
     ]
    }
   ],
   "source": [
    "# 7. Write a NumPy program to test element-wise for NaN of a given array.\n",
    "\n",
    "x = np.array([1,2,3,4])\n",
    "print(\"Given array:\")\n",
    "print(x)\n",
    "print(np.isnan(x))\n",
    "\n",
    "y = np.array([1,np.nan,3,4])\n",
    "print(\"Given array:\")\n",
    "print(y)\n",
    "print(np.isnan(y))\n",
    "\n",
    "z = np.array([1,np.nan,3,np.inf])\n",
    "print(\"Given array:\")\n",
    "print(z)\n",
    "print(np.isnan(z))"
   ]
  },
  {
   "cell_type": "code",
   "execution_count": 9,
   "metadata": {},
   "outputs": [
    {
     "name": "stdout",
     "output_type": "stream",
     "text": [
      "Given number:\n",
      "[1.+0.j 3.+1.j]\n",
      "Complex:  [False  True]\n",
      "Real:  [ True False]\n",
      "Given number:\n",
      "[2.  1.5]\n",
      "Complex:  [False False]\n",
      "Real:  [ True  True]\n",
      "True\n",
      "False\n",
      "True\n"
     ]
    }
   ],
   "source": [
    "# 8. Write a NumPy program to test element-wise for complex number, real number of a given array. \n",
    "# Also test whether a given number is a scalar type or not.\n",
    "\n",
    "x = np.array([1, 3 + 1j])\n",
    "print(\"Given number:\")\n",
    "print(x)\n",
    "print(\"Complex: \", np.iscomplex(x))\n",
    "print(\"Real: \", np.isreal(x))\n",
    "\n",
    "y = np.array([2,1.5])\n",
    "print(\"Given number:\")\n",
    "print(y)\n",
    "print(\"Complex: \", np.iscomplex(y))\n",
    "print(\"Real: \", np.isreal(y))\n",
    "\n",
    "print(np.isscalar(2.5))\n",
    "print(np.isscalar([1]))\n",
    "print(np.isscalar(1 + 5j))"
   ]
  },
  {
   "cell_type": "code",
   "execution_count": 10,
   "metadata": {},
   "outputs": [
    {
     "name": "stdout",
     "output_type": "stream",
     "text": [
      "x and y are element-wise equal within a tolerance:  False\n",
      "p and q are element-wise equal within a tolerance:  True\n",
      "l and m are element-wise equal within a tolerance:  False\n"
     ]
    }
   ],
   "source": [
    "# 9. Write a NumPy program to test whether two arrays are element-wise equal within a tolerance. \n",
    "\n",
    "x = [5.00067e+05, 6.001e+08]\n",
    "y = [5.00067e+04, 6.001e+08]\n",
    "\n",
    "p = [1e10,1e-8]\n",
    "q = [1e10,1e-9]\n",
    "\n",
    "l = [1e10,1e-4]\n",
    "m = [1e10,1e-5]\n",
    "\n",
    "print(\"x and y are element-wise equal within a tolerance: \", np.allclose(x,y))\n",
    "print(\"p and q are element-wise equal within a tolerance: \", np.allclose(p,q))\n",
    "print(\"l and m are element-wise equal within a tolerance: \", np.allclose(l,m))"
   ]
  },
  {
   "cell_type": "code",
   "execution_count": 11,
   "metadata": {},
   "outputs": [
    {
     "name": "stdout",
     "output_type": "stream",
     "text": [
      "Equal a and b:  [ True  True]\n",
      "Equal b and c:  [False False]\n",
      "Equal c and a:  [False False]\n",
      "********\n",
      "a > b:  [False False]\n",
      "b > c:  [False False]\n",
      "c > a:  [ True  True]\n",
      "********\n",
      "a < b:  [False False]\n",
      "b < c:  [ True  True]\n",
      "c < a:  [False False]\n",
      "********\n",
      "a >= b:  [ True  True]\n",
      "b >= c:  [False False]\n",
      "c >= a:  [ True  True]\n",
      "********\n",
      "a <= b:  [ True  True]\n",
      "b <= c:  [ True  True]\n",
      "c <= a:  [False False]\n"
     ]
    }
   ],
   "source": [
    "# 10. Write a NumPy program to create an element-wise comparison (greater, greater_equal, less and less_equal) \n",
    "# of two given arrays.\n",
    "\n",
    "a = [1,2]\n",
    "b = [1,2]\n",
    "c = [3,5]\n",
    "\n",
    "print(\"Equal a and b: \", np.equal(a,b))\n",
    "print(\"Equal b and c: \", np.equal(b,c))\n",
    "print(\"Equal c and a: \", np.equal(c,a))\n",
    "print(\"********\")\n",
    "\n",
    "print(\"a > b: \", np.greater(a,b))\n",
    "print(\"b > c: \", np.greater(b,c))\n",
    "print(\"c > a: \", np.greater(c,a))\n",
    "print(\"********\")\n",
    "\n",
    "print(\"a < b: \", np.less(a,b))\n",
    "print(\"b < c: \", np.less(b,c))\n",
    "print(\"c < a: \", np.less(c,a))\n",
    "print(\"********\")\n",
    "\n",
    "print(\"a >= b: \", np.greater_equal(a,b))\n",
    "print(\"b >= c: \", np.greater_equal(b,c))\n",
    "print(\"c >= a: \", np.greater_equal(c,a))\n",
    "print(\"********\")\n",
    "\n",
    "print(\"a <= b: \", np.less_equal(a,b))\n",
    "print(\"b <= c: \", np.less_equal(b,c))\n",
    "print(\"c <= a: \", np.less_equal(c,a))"
   ]
  },
  {
   "cell_type": "code",
   "execution_count": 12,
   "metadata": {},
   "outputs": [
    {
     "name": "stdout",
     "output_type": "stream",
     "text": [
      "x and y are element-wise equal:  [False  True]\n",
      "x and y are element-wise equal within a tolerance:  False\n",
      "**********\n",
      "p and q are element-wise equal:  [ True False]\n",
      "p and q are element-wise equal within a tolerance:  True\n",
      "**********\n",
      "l and m are element-wise equal:  [ True False]\n",
      "l and m are element-wise equal within a tolerance:  False\n",
      "**********\n"
     ]
    }
   ],
   "source": [
    "# 11. Write a NumPy program to create an element-wise comparison (equal, equal within a tolerance) \n",
    "# of two given arrays.\n",
    "\n",
    "x = [5.00067e+05, 6.001e+08]\n",
    "y = [5.00067e+04, 6.001e+08]\n",
    "\n",
    "p = [1e10,1e-8]\n",
    "q = [1e10,1e-9]\n",
    "\n",
    "l = [1e10,1e-4]\n",
    "m = [1e10,1e-5]\n",
    "\n",
    "print(\"x and y are element-wise equal: \", np.equal(x,y))\n",
    "print(\"x and y are element-wise equal within a tolerance: \", np.allclose(x,y))\n",
    "print(\"**********\")\n",
    "\n",
    "print(\"p and q are element-wise equal: \", np.equal(p,q))\n",
    "print(\"p and q are element-wise equal within a tolerance: \", np.allclose(p,q))\n",
    "print(\"**********\")\n",
    "\n",
    "print(\"l and m are element-wise equal: \", np.equal(l,m))\n",
    "print(\"l and m are element-wise equal within a tolerance: \", np.allclose(l,m))\n",
    "print(\"**********\")"
   ]
  },
  {
   "cell_type": "code",
   "execution_count": 13,
   "metadata": {},
   "outputs": [
    {
     "name": "stdout",
     "output_type": "stream",
     "text": [
      "Memory occupied: 32 bytes\n",
      "Memory occupied: 32 bytes\n"
     ]
    }
   ],
   "source": [
    "# 12. Write a NumPy program to create an array with the values 1, 7, 13, 105 and determine the size of \n",
    "# the memory occupied by the array.\n",
    "\n",
    "x = np.array([1,7,13,105])\n",
    "# Method 1:\n",
    "print(\"Memory occupied: %d bytes\" % x.nbytes)\n",
    "# Method 2:\n",
    "print(\"Memory occupied: %d bytes\" % (x.size * x.itemsize))"
   ]
  },
  {
   "cell_type": "code",
   "execution_count": 14,
   "metadata": {},
   "outputs": [
    {
     "name": "stdout",
     "output_type": "stream",
     "text": [
      "Array with 10 zeros:  [0. 0. 0. 0. 0. 0. 0. 0. 0. 0.]\n",
      "Array with 10 ones:  [1. 1. 1. 1. 1. 1. 1. 1. 1. 1.]\n",
      "Array with 10 fives:  [5. 5. 5. 5. 5. 5. 5. 5. 5. 5.]\n"
     ]
    }
   ],
   "source": [
    "# 13. Write a NumPy program to create an array of 10 zeros, 10 ones, 10 fives.\n",
    "\n",
    "x = np.zeros(10)\n",
    "print(\"Array with 10 zeros: \", x)\n",
    "\n",
    "y = np.ones(10)\n",
    "print(\"Array with 10 ones: \", y)\n",
    "\n",
    "z = np.ones(10) * 5\n",
    "print(\"Array with 10 fives: \", z)"
   ]
  },
  {
   "cell_type": "code",
   "execution_count": 15,
   "metadata": {},
   "outputs": [
    {
     "name": "stdout",
     "output_type": "stream",
     "text": [
      "[30 31 32 33 34 35 36 37 38 39 40 41 42 43 44 45 46 47 48 49 50 51 52 53\n",
      " 54 55 56 57 58 59 60 61 62 63 64 65 66 67 68 69 70]\n"
     ]
    }
   ],
   "source": [
    "# 14. Write a NumPy program to create an array of the integers from 30 to 70.\n",
    "\n",
    "x = np.arange(30,71)\n",
    "print(x)"
   ]
  },
  {
   "cell_type": "code",
   "execution_count": 16,
   "metadata": {},
   "outputs": [
    {
     "name": "stdout",
     "output_type": "stream",
     "text": [
      "[30 32 34 36 38 40 42 44 46 48 50 52 54 56 58 60 62 64 66 68 70]\n"
     ]
    }
   ],
   "source": [
    "# 15. Write a NumPy program to create an array of all the even integers from 30 to 70. \n",
    "\n",
    "x = np.arange(30,71,2)\n",
    "print(x)"
   ]
  },
  {
   "cell_type": "code",
   "execution_count": 17,
   "metadata": {},
   "outputs": [
    {
     "name": "stdout",
     "output_type": "stream",
     "text": [
      "[[1. 0. 0.]\n",
      " [0. 1. 0.]\n",
      " [0. 0. 1.]]\n"
     ]
    }
   ],
   "source": [
    "# 16. Write a NumPy program to create a 3x3 identity matrix. \n",
    "\n",
    "x = np.identity(3)\n",
    "print(x)"
   ]
  },
  {
   "cell_type": "code",
   "execution_count": 18,
   "metadata": {},
   "outputs": [
    {
     "name": "stdout",
     "output_type": "stream",
     "text": [
      "[0.92367855]\n",
      "[-0.3703642]\n"
     ]
    }
   ],
   "source": [
    "# 17. Write a NumPy program to generate a random number between 0 and 1.\n",
    "\n",
    "#Method 1: \n",
    "x = np.random.random(1)\n",
    "print(x)\n",
    "\n",
    "#Method 2:\n",
    "y = np.random.normal(0,1,1)\n",
    "print(y)"
   ]
  },
  {
   "cell_type": "code",
   "execution_count": 19,
   "metadata": {},
   "outputs": [
    {
     "name": "stdout",
     "output_type": "stream",
     "text": [
      "[ 0.68491461 -0.84344623  0.20854107  0.95202824 -0.75988176  1.12256935\n",
      " -1.16221839  0.09790864 -0.37949025  0.57455996  1.58181995  0.56581858\n",
      "  0.02337457  1.37694813 -0.42023622]\n"
     ]
    }
   ],
   "source": [
    "# 18. Write a NumPy program to generate an array of 15 random numbers from a standard normal distribution.\n",
    "\n",
    "x = np.random.normal(0,1,15)\n",
    "print(x)"
   ]
  },
  {
   "cell_type": "code",
   "execution_count": 20,
   "metadata": {},
   "outputs": [
    {
     "name": "stdout",
     "output_type": "stream",
     "text": [
      "Vector:\n",
      "[15 16 17 18 19 20 21 22 23 24 25 26 27 28 29 30 31 32 33 34 35 36 37 38\n",
      " 39 40 41 42 43 44 45 46 47 48 49 50 51 52 53 54]\n",
      "Vector with values except first and last:\n",
      "[16 17 18 19 20 21 22 23 24 25 26 27 28 29 30 31 32 33 34 35 36 37 38 39\n",
      " 40 41 42 43 44 45 46 47 48 49 50 51 52 53]\n"
     ]
    }
   ],
   "source": [
    "# 19. Write a NumPy program to create a vector with values ranging from 15 to 55 and print all values except \n",
    "# the first and last.\n",
    "\n",
    "x = np.arange(15,55)\n",
    "print(\"Vector:\")\n",
    "print(x)\n",
    "\n",
    "print(\"Vector with values except first and last:\")\n",
    "print(x[1:-1])"
   ]
  },
  {
   "cell_type": "code",
   "execution_count": 21,
   "metadata": {},
   "outputs": [
    {
     "name": "stdout",
     "output_type": "stream",
     "text": [
      "[[ 0  1  2  3]\n",
      " [ 4  5  6  7]\n",
      " [ 8  9 10 11]]\n",
      "0 1 2 3 4 5 6 7 8 9 10 11 "
     ]
    }
   ],
   "source": [
    "# 20. Write a NumPy program to create a 3X4 array using and iterate over it.\n",
    "\n",
    "x = np.arange(12).reshape(3,4) # Creating an array with 12 numbers and then converting it to a 3*4 matrix\n",
    "print(x)\n",
    "\n",
    "for i in np.nditer(x):\n",
    "    print(i, end = \" \") # end = \" \" to print in a single row separated by space"
   ]
  },
  {
   "cell_type": "code",
   "execution_count": 22,
   "metadata": {},
   "outputs": [
    {
     "name": "stdout",
     "output_type": "stream",
     "text": [
      "[ 6.         10.77777778 15.55555556 20.33333333 25.11111111 29.88888889\n",
      " 34.66666667 39.44444444 44.22222222 49.        ]\n"
     ]
    }
   ],
   "source": [
    "# 21. Write a NumPy program to create a vector of length 10 with values evenly distributed between 5 and 50. \n",
    "\n",
    "x = np.linspace(6,49,10)\n",
    "print(x)"
   ]
  },
  {
   "cell_type": "code",
   "execution_count": 23,
   "metadata": {},
   "outputs": [
    {
     "name": "stdout",
     "output_type": "stream",
     "text": [
      "[0, 1, 2, 3, 4, 5, 6, 7, 8, -9, -10, -11, -12, -13, -14, -15, 16, 17, 18, 19]\n"
     ]
    }
   ],
   "source": [
    "# 22. Write a NumPy program to create a vector with values from 0 to 20 and change the sign of the numbers in \n",
    "# the range from 9 to 15.\n",
    "\n",
    "x = np.arange(20)\n",
    "print(list(x[0:9]) + list(-x[9:16]) + list(x[16:21]))"
   ]
  },
  {
   "cell_type": "code",
   "execution_count": 24,
   "metadata": {},
   "outputs": [
    {
     "name": "stdout",
     "output_type": "stream",
     "text": [
      "[9 0 3 2 9]\n"
     ]
    }
   ],
   "source": [
    "# 23. Write a NumPy program to create a vector of length 5 filled with arbitrary integers from 0 to 10. \n",
    "\n",
    "x = np.random.randint(0,11,5)\n",
    "print(x)"
   ]
  },
  {
   "cell_type": "code",
   "execution_count": 25,
   "metadata": {},
   "outputs": [
    {
     "name": "stdout",
     "output_type": "stream",
     "text": [
      "[0 1 2 3 4]\n",
      "[0 1 2 3 4]\n",
      "Product:  [ 0  1  4  9 16]\n",
      "[17  5  6  2]\n",
      "[22 18 17 17]\n",
      "Product:  [374  90 102  34]\n"
     ]
    }
   ],
   "source": [
    "# 24. Write a NumPy program to multiply the values of two given vectors.\n",
    "\n",
    "x = np.arange(5)\n",
    "y = np.arange(5)\n",
    "print(x)\n",
    "print(y)\n",
    "print(\"Product: \", x*y)\n",
    "\n",
    "a = np.array([17,5,6,2])\n",
    "b = np.random.randint(10,26,4)\n",
    "print(a)\n",
    "print(b)\n",
    "print(\"Product: \", a*b)"
   ]
  },
  {
   "cell_type": "code",
   "execution_count": 26,
   "metadata": {},
   "outputs": [
    {
     "name": "stdout",
     "output_type": "stream",
     "text": [
      "[[10 11 12 13]\n",
      " [14 15 16 17]\n",
      " [18 19 20 21]]\n"
     ]
    }
   ],
   "source": [
    "# 25. Write a NumPy program to create a 3x4 matrix filled with values from 10 to 21.\n",
    "\n",
    "x = np.arange(10,22).reshape(3,4)\n",
    "print(x)"
   ]
  },
  {
   "cell_type": "code",
   "execution_count": 27,
   "metadata": {},
   "outputs": [
    {
     "name": "stdout",
     "output_type": "stream",
     "text": [
      "Number of rows and columns:  (3, 4)\n",
      "Number of columns:  4\n",
      "Number of rows:  3\n"
     ]
    }
   ],
   "source": [
    "# 26. Write a NumPy program to find the number of rows and columns of a given matrix.\n",
    "\n",
    "x = np.arange(10,22).reshape(3,4)\n",
    "print(\"Number of rows and columns: \", x.shape)\n",
    "print(\"Number of columns: \", np.size(x,1))\n",
    "print(\"Number of rows: \", np.size(x,0))"
   ]
  },
  {
   "cell_type": "code",
   "execution_count": 28,
   "metadata": {},
   "outputs": [
    {
     "name": "stdout",
     "output_type": "stream",
     "text": [
      "[[1. 0. 0.]\n",
      " [0. 1. 0.]\n",
      " [0. 0. 1.]]\n",
      "[[1. 0. 0.]\n",
      " [0. 1. 0.]\n",
      " [0. 0. 1.]]\n"
     ]
    }
   ],
   "source": [
    "# 27. Write a NumPy program to create a 3x3 identity matrix, i.e. diagonal elements are 1, the rest are 0. \n",
    "\n",
    "# Method 1:\n",
    "x = np.identity(3)\n",
    "print(x)\n",
    "\n",
    "# Method 2:\n",
    "y = np.eye(3)\n",
    "print(y)"
   ]
  },
  {
   "cell_type": "code",
   "execution_count": 29,
   "metadata": {},
   "outputs": [
    {
     "name": "stdout",
     "output_type": "stream",
     "text": [
      "[[1. 1. 1. 1. 1. 1. 1. 1. 1. 1.]\n",
      " [1. 0. 0. 0. 0. 0. 0. 0. 0. 1.]\n",
      " [1. 0. 0. 0. 0. 0. 0. 0. 0. 1.]\n",
      " [1. 0. 0. 0. 0. 0. 0. 0. 0. 1.]\n",
      " [1. 0. 0. 0. 0. 0. 0. 0. 0. 1.]\n",
      " [1. 0. 0. 0. 0. 0. 0. 0. 0. 1.]\n",
      " [1. 0. 0. 0. 0. 0. 0. 0. 0. 1.]\n",
      " [1. 0. 0. 0. 0. 0. 0. 0. 0. 1.]\n",
      " [1. 0. 0. 0. 0. 0. 0. 0. 0. 1.]\n",
      " [1. 1. 1. 1. 1. 1. 1. 1. 1. 1.]]\n"
     ]
    }
   ],
   "source": [
    "# 28. Write a NumPy program to create a 10x10 matrix, in which the elements on the borders will be equal to 1, \n",
    "# and inside 0.\n",
    "\n",
    "x = np.ones(100).reshape(10,10)\n",
    "#print(x)\n",
    "y = np.zeros(64).reshape(8,8)\n",
    "#print(y)\n",
    "x[1:-1,1:-1] = y\n",
    "print(x)"
   ]
  },
  {
   "cell_type": "code",
   "execution_count": 30,
   "metadata": {},
   "outputs": [
    {
     "name": "stdout",
     "output_type": "stream",
     "text": [
      "[[1. 0. 0. 0. 0.]\n",
      " [0. 2. 0. 0. 0.]\n",
      " [0. 0. 3. 0. 0.]\n",
      " [0. 0. 0. 4. 0.]\n",
      " [0. 0. 0. 0. 5.]]\n",
      "[[1 0 0 0 0]\n",
      " [0 2 0 0 0]\n",
      " [0 0 3 0 0]\n",
      " [0 0 0 4 0]\n",
      " [0 0 0 0 5]]\n"
     ]
    }
   ],
   "source": [
    "# 29. Write a NumPy program to create a 5x5 zero matrix with elements on the main diagonal equal to 1, 2, 3, 4, 5.\n",
    "\n",
    "#Method 1:\n",
    "x = np.zeros(25).reshape(5,5)\n",
    "#print(x)\n",
    "x[0,0] = 1\n",
    "x[1,1] = 2\n",
    "x[2,2] = 3\n",
    "x[3,3] = 4\n",
    "x[4,4] = 5\n",
    "print(x)\n",
    "\n",
    "#Method 2:\n",
    "y = np.diag([1,2,3,4,5])\n",
    "print(y)"
   ]
  },
  {
   "cell_type": "code",
   "execution_count": 31,
   "metadata": {},
   "outputs": [
    {
     "name": "stdout",
     "output_type": "stream",
     "text": [
      "[[0. 1. 0. 1.]\n",
      " [1. 0. 1. 0.]\n",
      " [0. 1. 0. 1.]\n",
      " [1. 0. 1. 0.]]\n"
     ]
    }
   ],
   "source": [
    "# 30. Write a NumPy program to create a 4x4 matrix in which 0 and 1 are staggered, with zeros on the main diagonal. \n",
    "\n",
    "x = np.zeros(16).reshape(4,4)\n",
    "#print(x)\n",
    "x[::2, 1::2] = 1\n",
    "x[1::2, ::2] = 1\n",
    "print(x)"
   ]
  },
  {
   "cell_type": "code",
   "execution_count": 32,
   "metadata": {},
   "outputs": [
    {
     "name": "stdout",
     "output_type": "stream",
     "text": [
      "[[[ 0  1  2]\n",
      "  [ 3  4  5]\n",
      "  [ 6  7  8]]\n",
      "\n",
      " [[ 9 10 11]\n",
      "  [12 13 14]\n",
      "  [15 16 17]]\n",
      "\n",
      " [[18 19 20]\n",
      "  [21 22 23]\n",
      "  [24 25 26]]]\n",
      "[[[0.172713   0.48659758 0.13990574]\n",
      "  [0.79302291 0.78996105 0.51661248]\n",
      "  [0.04886693 0.52694718 0.23085987]]\n",
      "\n",
      " [[0.85072616 0.54390888 0.47806071]\n",
      "  [0.8662321  0.2937855  0.39571551]\n",
      "  [0.21291054 0.44448171 0.7798306 ]]\n",
      "\n",
      " [[0.63255794 0.29789742 0.5205719 ]\n",
      "  [0.10329085 0.7420931  0.58964947]\n",
      "  [0.40249033 0.70742633 0.59326407]]]\n"
     ]
    }
   ],
   "source": [
    "# 31. Write a NumPy program to create a 3x3x3 array filled with arbitrary values.\n",
    "\n",
    "#Method 1:\n",
    "x = np.arange(27).reshape(3,3,3)\n",
    "print(x)\n",
    "\n",
    "#Method 2:\n",
    "y = np.random.random(27).reshape(3,3,3)\n",
    "print(y)"
   ]
  },
  {
   "cell_type": "code",
   "execution_count": 33,
   "metadata": {},
   "outputs": [
    {
     "name": "stdout",
     "output_type": "stream",
     "text": [
      "[[ 0  1  2  3  4  5]\n",
      " [ 6  7  8  9 10 11]]\n",
      "66\n",
      "[ 6  8 10 12 14 16]\n",
      "[15 51]\n"
     ]
    }
   ],
   "source": [
    "# 32. Write a NumPy program to compute sum of all elements, sum of each column and sum of each row of a given array.\n",
    "\n",
    "x = np.arange(12).reshape(2,6)\n",
    "print(x)\n",
    "print(x.sum())\n",
    "print(x.sum(axis = 0))\n",
    "print(x.sum(axis = 1))\n",
    "\n",
    "#np.sum(x)\n",
    "#np.sum(axis = 0)\n",
    "#np.sum(axis = 1)"
   ]
  },
  {
   "cell_type": "code",
   "execution_count": 34,
   "metadata": {},
   "outputs": [
    {
     "name": "stdout",
     "output_type": "stream",
     "text": [
      "40\n",
      "[[14  3]\n",
      " [21  5]]\n"
     ]
    }
   ],
   "source": [
    "# 33. Write a NumPy program to compute the inner product of two given vectors.\n",
    "\n",
    "x = np.array([10,2])\n",
    "y = np.array([3,5])\n",
    "print(np.dot(x,y))\n",
    "\n",
    "a = np.array([[2,3],[1,5]])\n",
    "b = np.array([[1,0],[4,1]])\n",
    "print(np.dot(a,b))"
   ]
  },
  {
   "cell_type": "code",
   "execution_count": 35,
   "metadata": {},
   "outputs": [
    {
     "name": "stdout",
     "output_type": "stream",
     "text": [
      "[[1 2 3]\n",
      " [0 1 4]\n",
      " [3 2 3]\n",
      " [4 1 0]]\n",
      "[1 2 1]\n",
      "[[2 4 4]\n",
      " [1 3 5]\n",
      " [4 4 4]\n",
      " [5 3 1]]\n"
     ]
    }
   ],
   "source": [
    "# 34. Write a NumPy program to add a vector to each row of a given matrix. \n",
    "\n",
    "x = np.array([[1,2,3],[0,1,4],[3,2,3],[4,1,0]])\n",
    "y = np.array([1,2,1])\n",
    "print(x)\n",
    "print(y)\n",
    "\n",
    "z = np.empty_like(x)\n",
    "for i in range(np.size(x,0)): #np.size(x,0) gives the number of rows in array x\n",
    "    z[i,:] = x[i,:] + y\n",
    "print(z)"
   ]
  },
  {
   "cell_type": "code",
   "execution_count": 53,
   "metadata": {},
   "outputs": [
    {
     "name": "stdout",
     "output_type": "stream",
     "text": [
      "[[ 0  1  2  3]\n",
      " [ 4  5  6  7]\n",
      " [ 8  9 10 11]]\n",
      "True\n"
     ]
    }
   ],
   "source": [
    "# 35. Write a NumPy program to save a given array to a binary file.\n",
    "\n",
    "import os\n",
    "x = np.arange(12).reshape(3,4)\n",
    "#print(x)\n",
    "np.save('array_to_binary.npy', x)\n",
    "if os.path.exists('array_to_binary.npy'):\n",
    "    x1 = np.load('array_to_binary.npy')\n",
    "    print(x1)\n",
    "    print(np.array_equal(x1,x))"
   ]
  },
  {
   "cell_type": "code",
   "execution_count": 63,
   "metadata": {},
   "outputs": [
    {
     "name": "stdout",
     "output_type": "stream",
     "text": [
      "[[ 0  1  2  3]\n",
      " [ 4  5  6  7]\n",
      " [ 8  9 10 11]]\n",
      "[[0.53594262 0.11532141]\n",
      " [0.73607888 0.09040294]\n",
      " [0.75008413 0.43984436]\n",
      " [0.1623212  0.77171763]\n",
      " [0.55267388 0.45712936]]\n"
     ]
    }
   ],
   "source": [
    "# 36. Write a NumPy program to save two given arrays into a single file in compressed format (.npz format) \n",
    "# and load it.\n",
    "\n",
    "x = np.arange(12).reshape(3,4)\n",
    "y = np.random.random(10).reshape(5,2)\n",
    "#print(x)\n",
    "np.savez_compressed('multiple_array_to_binary.npz', x1 = x, y1 = y)\n",
    "with np.load('multiple_array_to_binary.npz') as data:\n",
    "    a1 = data['x1']\n",
    "    a2 = data['y1']\n",
    "    print(a1)\n",
    "    print(a2)"
   ]
  },
  {
   "cell_type": "code",
   "execution_count": 70,
   "metadata": {},
   "outputs": [
    {
     "name": "stdout",
     "output_type": "stream",
     "text": [
      "[[0.50822333 0.45184435 0.21446922 0.73134117]\n",
      " [0.6369002  0.26117847 0.7936099  0.15234316]]\n"
     ]
    }
   ],
   "source": [
    "# 37. Write a NumPy program to save a given array to a text file and load it. \n",
    "\n",
    "x = np.random.random(8).reshape(2,4)\n",
    "#print(x)\n",
    "np.savetxt('array_to_text.txt', x)\n",
    "if os.path.exists('array_to_text.txt'):\n",
    "    x1 = np.loadtxt('array_to_text.txt')\n",
    "    print(x1)"
   ]
  },
  {
   "cell_type": "code",
   "execution_count": 90,
   "metadata": {},
   "outputs": [
    {
     "name": "stdout",
     "output_type": "stream",
     "text": [
      "b'\\x90\\x92E:\\x02\\xe8\\xe4?b\\xb71(<^\\xe0?b\\x17\\xa5\\xdf@w\\xdd?\\xa1\\xfc:\\xc7\\x8c\\xc4\\xeb?G\\xfa\\x971\\xf9\\x9e\\xe3?x\\x9e\\xfd\\x18\\xe4=\\xd8?\\xdd\\xf1\\xceJN\\x84\\xe0?tk\\x14\\xbc\\xb0\\xec\\xc6?\\xc0\\xaa\\xb1]\\xf4D\\xa9?'\n",
      "[0.65332137 0.51150329 0.46040365 0.86774291 0.61315593 0.37877753\n",
      " 0.51615061 0.17909822 0.04935421]\n"
     ]
    }
   ],
   "source": [
    "# 38. Write a NumPy program to convert a given array into bytes, and load it as array.\n",
    "\n",
    "x = np.random.random(9).reshape(3,3)\n",
    "#print(x)\n",
    "print(x.tobytes())\n",
    "x1 = x.tobytes()\n",
    "x2 = np.frombuffer(x1)\n",
    "print(x2)"
   ]
  },
  {
   "cell_type": "code",
   "execution_count": 93,
   "metadata": {},
   "outputs": [
    {
     "name": "stdout",
     "output_type": "stream",
     "text": [
      "b'\\xb4\\xfc\\x7f\\x01Yg\\xd5?\\\\\\x04\\x0fj\\xfe\\x16\\xe9?\\xa4\\xe1Ve\\xf1A\\xe1?xC\\xc7fOS\\xdb?\\xe2\\xc4\\xef8Fh\\xd6?lx\\x08\\xbe\\x84\\xd2\\xde?\\xba\\xc1\\x13\\x005\\xfb\\xdd?\\xd7A}R}\\xb4\\xe4?\\xf8\\x0f{\\xfa\\xb2\\x87\\xb5?'\n",
      "[0.33443284 0.78405686 0.53929968 0.42695985 0.3501144  0.48159903\n",
      " 0.46845746 0.64703241 0.08410185]\n"
     ]
    }
   ],
   "source": [
    "# 39. Write a NumPy program to convert a given array into a list and then convert it into a list again. \n",
    "\n",
    "x = np.random.random(9).reshape(3,3)\n",
    "#print(x)\n",
    "print(x.tobytes())\n",
    "x1 = x.tobytes()\n",
    "x2 = np.frombuffer(x1, dtype = x.dtype)\n",
    "print(x2)"
   ]
  },
  {
   "cell_type": "code",
   "execution_count": 106,
   "metadata": {},
   "outputs": [
    {
     "name": "stdout",
     "output_type": "stream",
     "text": [
      "[0.  0.2 0.4 0.6 0.8 1.  1.2 1.4 1.6 1.8 2.  2.2 2.4 2.6 2.8 3.  3.2 3.4\n",
      " 3.6 3.8 4.  4.2 4.4 4.6 4.8 5.  5.2 5.4 5.6 5.8 6.  6.2 6.4 6.6 6.8 7.\n",
      " 7.2 7.4 7.6 7.8 8.  8.2 8.4 8.6 8.8 9.  9.2 9.4]\n",
      "[ 0.          0.19866933  0.38941834  0.56464247  0.71735609  0.84147098\n",
      "  0.93203909  0.98544973  0.9995736   0.97384763  0.90929743  0.8084964\n",
      "  0.67546318  0.51550137  0.33498815  0.14112001 -0.05837414 -0.2555411\n",
      " -0.44252044 -0.61185789 -0.7568025  -0.87157577 -0.95160207 -0.993691\n",
      " -0.99616461 -0.95892427 -0.88345466 -0.77276449 -0.63126664 -0.46460218\n",
      " -0.2794155  -0.0830894   0.1165492   0.31154136  0.49411335  0.6569866\n",
      "  0.79366786  0.8987081   0.96791967  0.99854335  0.98935825  0.94073056\n",
      "  0.85459891  0.7343971   0.58491719  0.41211849  0.22288991  0.02477543]\n"
     ]
    },
    {
     "data": {
      "text/plain": [
       "[<matplotlib.lines.Line2D at 0x113e8fb90>]"
      ]
     },
     "execution_count": 106,
     "metadata": {},
     "output_type": "execute_result"
    },
    {
     "data": {
      "image/png": "[encoded data removed]",
      "text/plain": [
       "<Figure size 432x288 with 1 Axes>"
      ]
     },
     "metadata": {
      "needs_background": "light"
     },
     "output_type": "display_data"
    }
   ],
   "source": [
    "# 40. Write a NumPy program to compute the x and y coordinates for points on a sine curve and plot the points \n",
    "# using matplotlib.\n",
    "\n",
    "import matplotlib.pyplot as plt\n",
    "x = np.arange(0, 3 * np.pi, 0.2) #or np.linspace(-np.pi, np.pi, 201)\n",
    "y = np.sin(x)\n",
    "print(x)\n",
    "print(y)\n",
    "plt.plot(x,y)"
   ]
  },
  {
   "cell_type": "code",
   "execution_count": 114,
   "metadata": {},
   "outputs": [
    {
     "name": "stdout",
     "output_type": "stream",
     "text": [
      "<class 'numpy.float32'>\n",
      "<class 'float'>\n",
      "<class 'numpy.int64'>\n",
      "<class 'int'>\n"
     ]
    }
   ],
   "source": [
    "# 41. Write a NumPy program to convert numpy dtypes to native python types. \n",
    "\n",
    "x = np.float32(5)\n",
    "print(type(x))\n",
    "python_val1 = x.item()\n",
    "print(type(python_val1))\n",
    "\n",
    "y = np.int64(5)\n",
    "print(type(y))\n",
    "python_val2 = y.item()\n",
    "print(type(python_val2))"
   ]
  },
  {
   "cell_type": "code",
   "execution_count": null,
   "metadata": {},
   "outputs": [],
   "source": []
  }
 ],
 "metadata": {
  "kernelspec": {
   "display_name": "Python 3",
   "language": "python",
   "name": "python3"
  },
  "language_info": {
   "codemirror_mode": {
    "name": "ipython",
    "version": 3
   },
   "file_extension": ".py",
   "mimetype": "text/x-python",
   "name": "python",
   "nbconvert_exporter": "python",
   "pygments_lexer": "ipython3",
   "version": "3.7.4"
  }
 },
 "nbformat": 4,
 "nbformat_minor": 2
}
