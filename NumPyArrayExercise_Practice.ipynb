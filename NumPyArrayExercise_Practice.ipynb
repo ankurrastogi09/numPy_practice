{
 "cells": [
  {
   "cell_type": "code",
   "execution_count": 1,
   "metadata": {},
   "outputs": [],
   "source": [
    "import numpy as np"
   ]
  },
  {
   "cell_type": "code",
   "execution_count": 2,
   "metadata": {},
   "outputs": [
    {
     "name": "stdout",
     "output_type": "stream",
     "text": [
      "1.17.2\n"
     ]
    }
   ],
   "source": [
    "# 1. Write a NumPy program to print the NumPy version in your system.\n",
    "\n",
    "print(np.__version__)"
   ]
  },
  {
   "cell_type": "code",
   "execution_count": 5,
   "metadata": {},
   "outputs": [
    {
     "name": "stdout",
     "output_type": "stream",
     "text": [
      "[ 12.23  13.32 100.    36.32]\n"
     ]
    }
   ],
   "source": [
    "# 2. Write a NumPy program to convert a list of numeric value into a one-dimensional NumPy array.\n",
    "\n",
    "lst = [12.23, 13.32, 100, 36.32]\n",
    "print(np.array(lst))"
   ]
  },
  {
   "cell_type": "code",
   "execution_count": 7,
   "metadata": {},
   "outputs": [
    {
     "name": "stdout",
     "output_type": "stream",
     "text": [
      "[[ 2  3  4]\n",
      " [ 5  6  7]\n",
      " [ 8  9 10]]\n"
     ]
    }
   ],
   "source": [
    "# 3. Write a NumPy program to create a 3x3 matrix with values ranging from 2 to 10. \n",
    "\n",
    "x = np.arange(2,11).reshape(3,3)\n",
    "print(x)"
   ]
  },
  {
   "cell_type": "code",
   "execution_count": 12,
   "metadata": {},
   "outputs": [
    {
     "name": "stdout",
     "output_type": "stream",
     "text": [
      "[0. 0. 0. 0. 0. 0. 0. 0. 0. 0.]\n",
      "[ 0.  0.  0.  0.  0.  0. 11.  0.  0.  0.]\n"
     ]
    }
   ],
   "source": [
    "# 4. Write a NumPy program to create a null vector of size 10 and update sixth value to 11.\n",
    "\n",
    "x = np.zeros(10)\n",
    "print(x)\n",
    "x[6] = 11\n",
    "print(x)"
   ]
  },
  {
   "cell_type": "code",
   "execution_count": 14,
   "metadata": {},
   "outputs": [
    {
     "name": "stdout",
     "output_type": "stream",
     "text": [
      "[12 13 14 15 16 17 18 19 20 21 22 23 24 25 26 27 28 29 30 31 32 33 34 35\n",
      " 36 37 38]\n"
     ]
    }
   ],
   "source": [
    "# 5. Write a NumPy program to create an array with values ranging from 12 to 38.\n",
    "\n",
    "x = np.arange(12,39)\n",
    "print(x)"
   ]
  },
  {
   "cell_type": "code",
   "execution_count": 22,
   "metadata": {},
   "outputs": [
    {
     "name": "stdout",
     "output_type": "stream",
     "text": [
      "[1 2 0 9 6 4]\n",
      "[4 6 9 0 2 1]\n"
     ]
    }
   ],
   "source": [
    "# 6. Write a NumPy program to reverse an array (first element becomes last).\n",
    "\n",
    "x = np.array([1,2,0,9,6,4])\n",
    "print(x)\n",
    "print(x[::-1])"
   ]
  },
  {
   "cell_type": "code",
   "execution_count": 28,
   "metadata": {},
   "outputs": [
    {
     "name": "stdout",
     "output_type": "stream",
     "text": [
      "[18 25 10 19 61 14]\n",
      "[18. 25. 10. 19. 61. 14.]\n",
      "[18 25 10 19 61 14]\n"
     ]
    }
   ],
   "source": [
    "# 7. Write a NumPy program to convert an array to a float type.\n",
    "\n",
    "x = np.array([18,25,10,19,61,14])\n",
    "print(x)\n",
    "print(x.astype('float32'))"
   ]
  },
  {
   "cell_type": "code",
   "execution_count": 40,
   "metadata": {},
   "outputs": [
    {
     "name": "stdout",
     "output_type": "stream",
     "text": [
      "[[1. 1. 1. 1.]\n",
      " [1. 1. 1. 1.]\n",
      " [1. 1. 1. 1.]\n",
      " [1. 1. 1. 1.]]\n",
      "[[0. 0.]\n",
      " [0. 0.]]\n",
      "[[1. 1. 1. 1.]\n",
      " [1. 0. 0. 1.]\n",
      " [1. 0. 0. 1.]\n",
      " [1. 1. 1. 1.]]\n"
     ]
    }
   ],
   "source": [
    "# 8. Write a NumPy program to create a 2d array with 1 on the border and 0 inside. \n",
    "\n",
    "x = np.ones(16).reshape(4,4)\n",
    "print(x)\n",
    "y = np.zeros(4).reshape(2,2)\n",
    "print(y)\n",
    "x[1:3,1:3] = y\n",
    "print(x)"
   ]
  },
  {
   "cell_type": "code",
   "execution_count": 42,
   "metadata": {},
   "outputs": [
    {
     "name": "stdout",
     "output_type": "stream",
     "text": [
      "[[1. 1. 1. 1.]\n",
      " [1. 1. 1. 1.]\n",
      " [1. 1. 1. 1.]\n",
      " [1. 1. 1. 1.]]\n",
      "[[0. 0. 0. 0. 0. 0.]\n",
      " [0. 1. 1. 1. 1. 0.]\n",
      " [0. 1. 1. 1. 1. 0.]\n",
      " [0. 1. 1. 1. 1. 0.]\n",
      " [0. 1. 1. 1. 1. 0.]\n",
      " [0. 0. 0. 0. 0. 0.]]\n"
     ]
    }
   ],
   "source": [
    "# 9. Write a NumPy program to add a border (filled with 0's) around an existing array. \n",
    "\n",
    "x = np.ones(16).reshape(4,4)\n",
    "print(x)\n",
    "x = np.pad(x, pad_width = 1, mode = 'constant', constant_values = 0)\n",
    "print(x)"
   ]
  },
  {
   "cell_type": "code",
   "execution_count": 51,
   "metadata": {},
   "outputs": [
    {
     "name": "stdout",
     "output_type": "stream",
     "text": [
      "[[0. 1. 0. 1. 0. 1. 0. 1.]\n",
      " [1. 0. 1. 0. 1. 0. 1. 0.]\n",
      " [0. 1. 0. 1. 0. 1. 0. 1.]\n",
      " [1. 0. 1. 0. 1. 0. 1. 0.]\n",
      " [0. 1. 0. 1. 0. 1. 0. 1.]\n",
      " [1. 0. 1. 0. 1. 0. 1. 0.]\n",
      " [0. 1. 0. 1. 0. 1. 0. 1.]\n",
      " [1. 0. 1. 0. 1. 0. 1. 0.]]\n"
     ]
    }
   ],
   "source": [
    "# 10. Write a NumPy program to create a 8x8 matrix and fill it with a checkerboard pattern. \n",
    "\n",
    "x = np.zeros(64).reshape(8,8)\n",
    "#print(x)\n",
    "x[::2,1::2] = 1\n",
    "x[1::2,::2] = 1\n",
    "print(x)"
   ]
  },
  {
   "cell_type": "code",
   "execution_count": null,
   "metadata": {},
   "outputs": [],
   "source": []
  }
 ],
 "metadata": {
  "kernelspec": {
   "display_name": "Python 3",
   "language": "python",
   "name": "python3"
  },
  "language_info": {
   "codemirror_mode": {
    "name": "ipython",
    "version": 3
   },
   "file_extension": ".py",
   "mimetype": "text/x-python",
   "name": "python",
   "nbconvert_exporter": "python",
   "pygments_lexer": "ipython3",
   "version": "3.7.4"
  }
 },
 "nbformat": 4,
 "nbformat_minor": 2
}
