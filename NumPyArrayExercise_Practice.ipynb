{
 "cells": [
  {
   "cell_type": "code",
   "execution_count": 1,
   "metadata": {},
   "outputs": [],
   "source": [
    "import numpy as np"
   ]
  },
  {
   "cell_type": "code",
   "execution_count": 2,
   "metadata": {},
   "outputs": [
    {
     "name": "stdout",
     "output_type": "stream",
     "text": [
      "1.17.2\n"
     ]
    }
   ],
   "source": [
    "# 1. Write a NumPy program to print the NumPy version in your system.\n",
    "\n",
    "print(np.__version__)"
   ]
  },
  {
   "cell_type": "code",
   "execution_count": 3,
   "metadata": {},
   "outputs": [
    {
     "name": "stdout",
     "output_type": "stream",
     "text": [
      "[ 12.23  13.32 100.    36.32]\n"
     ]
    }
   ],
   "source": [
    "# 2. Write a NumPy program to convert a list of numeric value into a one-dimensional NumPy array.\n",
    "\n",
    "lst = [12.23, 13.32, 100, 36.32]\n",
    "print(np.array(lst))"
   ]
  },
  {
   "cell_type": "code",
   "execution_count": 4,
   "metadata": {},
   "outputs": [
    {
     "name": "stdout",
     "output_type": "stream",
     "text": [
      "[[ 2  3  4]\n",
      " [ 5  6  7]\n",
      " [ 8  9 10]]\n"
     ]
    }
   ],
   "source": [
    "# 3. Write a NumPy program to create a 3x3 matrix with values ranging from 2 to 10. \n",
    "\n",
    "x = np.arange(2,11).reshape(3,3)\n",
    "print(x)"
   ]
  },
  {
   "cell_type": "code",
   "execution_count": 5,
   "metadata": {},
   "outputs": [
    {
     "name": "stdout",
     "output_type": "stream",
     "text": [
      "[0. 0. 0. 0. 0. 0. 0. 0. 0. 0.]\n",
      "[ 0.  0.  0.  0.  0.  0. 11.  0.  0.  0.]\n"
     ]
    }
   ],
   "source": [
    "# 4. Write a NumPy program to create a null vector of size 10 and update sixth value to 11.\n",
    "\n",
    "x = np.zeros(10)\n",
    "print(x)\n",
    "x[6] = 11\n",
    "print(x)"
   ]
  },
  {
   "cell_type": "code",
   "execution_count": 6,
   "metadata": {},
   "outputs": [
    {
     "name": "stdout",
     "output_type": "stream",
     "text": [
      "[12 13 14 15 16 17 18 19 20 21 22 23 24 25 26 27 28 29 30 31 32 33 34 35\n",
      " 36 37 38]\n"
     ]
    }
   ],
   "source": [
    "# 5. Write a NumPy program to create an array with values ranging from 12 to 38.\n",
    "\n",
    "x = np.arange(12,39)\n",
    "print(x)"
   ]
  },
  {
   "cell_type": "code",
   "execution_count": 7,
   "metadata": {},
   "outputs": [
    {
     "name": "stdout",
     "output_type": "stream",
     "text": [
      "[1 2 0 9 6 4]\n",
      "[4 6 9 0 2 1]\n"
     ]
    }
   ],
   "source": [
    "# 6. Write a NumPy program to reverse an array (first element becomes last).\n",
    "\n",
    "x = np.array([1,2,0,9,6,4])\n",
    "print(x)\n",
    "print(x[::-1])"
   ]
  },
  {
   "cell_type": "code",
   "execution_count": 8,
   "metadata": {},
   "outputs": [
    {
     "name": "stdout",
     "output_type": "stream",
     "text": [
      "[18 25 10 19 61 14]\n",
      "[18. 25. 10. 19. 61. 14.]\n"
     ]
    }
   ],
   "source": [
    "# 7. Write a NumPy program to convert an array to a float type.\n",
    "\n",
    "x = np.array([18,25,10,19,61,14])\n",
    "print(x)\n",
    "print(x.astype('float32'))"
   ]
  },
  {
   "cell_type": "code",
   "execution_count": 9,
   "metadata": {},
   "outputs": [
    {
     "name": "stdout",
     "output_type": "stream",
     "text": [
      "[[1. 1. 1. 1.]\n",
      " [1. 1. 1. 1.]\n",
      " [1. 1. 1. 1.]\n",
      " [1. 1. 1. 1.]]\n",
      "[[0. 0.]\n",
      " [0. 0.]]\n",
      "[[1. 1. 1. 1.]\n",
      " [1. 0. 0. 1.]\n",
      " [1. 0. 0. 1.]\n",
      " [1. 1. 1. 1.]]\n"
     ]
    }
   ],
   "source": [
    "# 8. Write a NumPy program to create a 2d array with 1 on the border and 0 inside. \n",
    "\n",
    "x = np.ones(16).reshape(4,4)\n",
    "print(x)\n",
    "y = np.zeros(4).reshape(2,2)\n",
    "print(y)\n",
    "x[1:3,1:3] = y\n",
    "print(x)"
   ]
  },
  {
   "cell_type": "code",
   "execution_count": 10,
   "metadata": {},
   "outputs": [
    {
     "name": "stdout",
     "output_type": "stream",
     "text": [
      "[[1. 1. 1. 1.]\n",
      " [1. 1. 1. 1.]\n",
      " [1. 1. 1. 1.]\n",
      " [1. 1. 1. 1.]]\n",
      "[[0. 0. 0. 0. 0. 0.]\n",
      " [0. 1. 1. 1. 1. 0.]\n",
      " [0. 1. 1. 1. 1. 0.]\n",
      " [0. 1. 1. 1. 1. 0.]\n",
      " [0. 1. 1. 1. 1. 0.]\n",
      " [0. 0. 0. 0. 0. 0.]]\n"
     ]
    }
   ],
   "source": [
    "# 9. Write a NumPy program to add a border (filled with 0's) around an existing array. \n",
    "\n",
    "x = np.ones(16).reshape(4,4)\n",
    "print(x)\n",
    "x = np.pad(x, pad_width = 1, mode = 'constant', constant_values = 0)\n",
    "print(x)"
   ]
  },
  {
   "cell_type": "code",
   "execution_count": 11,
   "metadata": {},
   "outputs": [
    {
     "name": "stdout",
     "output_type": "stream",
     "text": [
      "[[0. 1. 0. 1. 0. 1. 0. 1.]\n",
      " [1. 0. 1. 0. 1. 0. 1. 0.]\n",
      " [0. 1. 0. 1. 0. 1. 0. 1.]\n",
      " [1. 0. 1. 0. 1. 0. 1. 0.]\n",
      " [0. 1. 0. 1. 0. 1. 0. 1.]\n",
      " [1. 0. 1. 0. 1. 0. 1. 0.]\n",
      " [0. 1. 0. 1. 0. 1. 0. 1.]\n",
      " [1. 0. 1. 0. 1. 0. 1. 0.]]\n"
     ]
    }
   ],
   "source": [
    "# 10. Write a NumPy program to create a 8x8 matrix and fill it with a checkerboard pattern. \n",
    "\n",
    "x = np.zeros(64).reshape(8,8)\n",
    "#print(x)\n",
    "x[::2,1::2] = 1\n",
    "x[1::2,::2] = 1\n",
    "print(x)"
   ]
  },
  {
   "cell_type": "code",
   "execution_count": 12,
   "metadata": {},
   "outputs": [
    {
     "name": "stdout",
     "output_type": "stream",
     "text": [
      "[1 2 7 0 4 8]\n",
      "['1' 'ankur' 'c']\n",
      "[2.5 7.  3.2]\n",
      "[[1 2 5]\n",
      " [3 0 9]]\n"
     ]
    }
   ],
   "source": [
    "# 11. Write a NumPy program to convert a list and tuple into arrays.\n",
    "\n",
    "lst = [1,2,7,0,4,8]\n",
    "print(np.array(lst))\n",
    "#print(np.asarray(lst)) \n",
    "\n",
    "tpl_1 = [1, \"ankur\", \"c\"]\n",
    "tpl_2 = [2.5, 7, 3.2]\n",
    "tpl_3 = ([1,2,5],[3,0,9])\n",
    "print(np.array(tpl_1))\n",
    "print(np.array(tpl_2))\n",
    "print(np.array(tpl_3))"
   ]
  },
  {
   "cell_type": "code",
   "execution_count": 13,
   "metadata": {},
   "outputs": [
    {
     "name": "stdout",
     "output_type": "stream",
     "text": [
      "[1 7 8 4]\n",
      "[ 5  9 11]\n",
      "[ 1  7  8  4  5  9 11]\n",
      "[ 5  9 11  1  7  8  4]\n"
     ]
    }
   ],
   "source": [
    "# 12. Write a NumPy program to append values to the end of an array. \n",
    "\n",
    "x = np.array([1,7,8,4])\n",
    "y = np.array([5,9,11])\n",
    "print(x)\n",
    "print(y)\n",
    "z1 = np.append(x,y)\n",
    "z2 = np.append(y,x)\n",
    "print(z1)\n",
    "print(z2)"
   ]
  },
  {
   "cell_type": "code",
   "execution_count": 14,
   "metadata": {},
   "outputs": [
    {
     "name": "stdout",
     "output_type": "stream",
     "text": [
      "[[4.9e-324 9.9e-324 2.5e-323]\n",
      " [1.5e-323 0.0e+000 4.4e-323]]\n",
      "[[4 4 4]\n",
      " [4 4 4]]\n"
     ]
    }
   ],
   "source": [
    "# 13. Write a NumPy program to create an empty and a full array. \n",
    "\n",
    "x = np.empty((2,3))\n",
    "print(x)\n",
    "y = np.full((2,3),4)\n",
    "print(y)"
   ]
  },
  {
   "cell_type": "code",
   "execution_count": 15,
   "metadata": {},
   "outputs": [
    {
     "name": "stdout",
     "output_type": "stream",
     "text": [
      "Centigrade degrees:  [ 32 109  67] degrees C\n",
      "Fahrenheit degrees:  [ 89.6 228.2 152.6] degrees F\n"
     ]
    }
   ],
   "source": [
    "# 14. Write a NumPy program to convert the values of Centigrade degrees into Fahrenheit degrees. Centigrade values \n",
    "# are stored into a NumPy array.\n",
    "\n",
    "x = np.array([32,109,67])\n",
    "print(\"Centigrade degrees: \", x, \"degrees C\")\n",
    "y = (x * 1.8) + 32\n",
    "print(\"Fahrenheit degrees: \", y, \"degrees F\")"
   ]
  },
  {
   "cell_type": "code",
   "execution_count": 16,
   "metadata": {},
   "outputs": [
    {
     "name": "stdout",
     "output_type": "stream",
     "text": [
      "[1.+2.j]\n",
      "[1.]\n",
      "[2.]\n",
      "[[2.+3.j]\n",
      " [4.+6.j]]\n",
      "[[2.]\n",
      " [4.]]\n",
      "[[3.]\n",
      " [6.]]\n"
     ]
    }
   ],
   "source": [
    "# 15. Write a NumPy program to find the real and imaginary parts of an array of complex numbers. \n",
    "\n",
    "x = np.array([1+2j])\n",
    "print(x)\n",
    "print(x.real)\n",
    "print(x.imag)\n",
    "\n",
    "y = np.array([[2+3j],[4+6j]])\n",
    "print(y)\n",
    "print(y.real)\n",
    "print(y.imag)"
   ]
  },
  {
   "cell_type": "code",
   "execution_count": 17,
   "metadata": {},
   "outputs": [
    {
     "name": "stdout",
     "output_type": "stream",
     "text": [
      "[[2 5]\n",
      " [4 6]]\n",
      "Number of elements in the array: 4\n",
      "Length of one array element: 8 bytes\n",
      "Total bytes consumed by the array elements 32 bytes\n"
     ]
    }
   ],
   "source": [
    "# 16. Write a NumPy program to find the number of elements of an array, length of one array element in bytes \n",
    "# and total bytes consumed by the elements. \n",
    "\n",
    "x = np.array([[2,5],[4,6]])\n",
    "print(x)\n",
    "print(\"Number of elements in the array:\" , x.size)\n",
    "print(\"Length of one array element:\", x.itemsize, \"bytes\")\n",
    "print(\"Total bytes consumed by the array elements\", x.nbytes, \"bytes\")"
   ]
  },
  {
   "cell_type": "code",
   "execution_count": 18,
   "metadata": {},
   "outputs": [
    {
     "name": "stdout",
     "output_type": "stream",
     "text": [
      "[1 9 5 4]\n",
      "[5 1 7 2 4 8]\n",
      "[ True False  True  True]\n"
     ]
    }
   ],
   "source": [
    "# 17. Write a NumPy program to test whether each element of a 1-D array is also present in a second array.\n",
    "\n",
    "x = np.array([1,9,5,4])\n",
    "print(x)\n",
    "y = np.array([5,1,7,2,4,8])\n",
    "print(y)\n",
    "print(np.in1d(x,y)) "
   ]
  },
  {
   "cell_type": "code",
   "execution_count": 19,
   "metadata": {},
   "outputs": [
    {
     "name": "stdout",
     "output_type": "stream",
     "text": [
      "[1 9 5 4]\n",
      "[5 1 7 2 4 8]\n",
      "[1 4 5]\n"
     ]
    }
   ],
   "source": [
    "# 18. Write a NumPy program to find common values between two arrays. \n",
    "\n",
    "x = np.array([1,9,5,4])\n",
    "print(x)\n",
    "y = np.array([5,1,7,2,4,8])\n",
    "print(y)\n",
    "print(np.intersect1d(x,y))"
   ]
  },
  {
   "cell_type": "code",
   "execution_count": 20,
   "metadata": {},
   "outputs": [
    {
     "name": "stdout",
     "output_type": "stream",
     "text": [
      "[1 9 5 4 9 1]\n",
      "[1 4 5 9]\n",
      "[[1 9 5]\n",
      " [4 9 1]]\n",
      "[1 4 5 9]\n"
     ]
    }
   ],
   "source": [
    "# 19. Write a NumPy program to get the unique elements of an array.\n",
    "\n",
    "x = np.array([1,9,5,4,9,1])\n",
    "print(x)\n",
    "print(np.unique(x))\n",
    "\n",
    "\n",
    "y = np.array([[1,9,5],[4,9,1]])\n",
    "print(y)\n",
    "print(np.unique(y))"
   ]
  },
  {
   "cell_type": "code",
   "execution_count": 21,
   "metadata": {},
   "outputs": [
    {
     "name": "stdout",
     "output_type": "stream",
     "text": [
      "[1 9 5 4]\n",
      "[5 1 7 2 4 8]\n",
      "[9]\n",
      "[2 7 8]\n"
     ]
    }
   ],
   "source": [
    "# 20. Write a NumPy program to find the set difference of two arrays. The set difference will return the sorted, \n",
    "# unique values in array1 that are not in array2.\n",
    "\n",
    "x = np.array([1,9,5,4])\n",
    "print(x)\n",
    "y = np.array([5,1,7,2,4,8])\n",
    "print(y)\n",
    "print(np.setdiff1d(x,y)) #elements which are in x but not in y\n",
    "print(np.setdiff1d(y,x)) #elements which are in y but not in x"
   ]
  },
  {
   "cell_type": "code",
   "execution_count": 22,
   "metadata": {},
   "outputs": [
    {
     "name": "stdout",
     "output_type": "stream",
     "text": [
      "[1 9 5 4]\n",
      "[5 1 7 2 4 8]\n",
      "[2 7 8 9]\n"
     ]
    }
   ],
   "source": [
    "# 21. Write a NumPy program to find the set exclusive-or of two arrays. Set exclusive-or will return the sorted, \n",
    "# unique values that are in only one (not both) of the input arrays.\n",
    "\n",
    "x = np.array([1,9,5,4])\n",
    "print(x)\n",
    "y = np.array([5,1,7,2,4,8])\n",
    "print(y)\n",
    "print(np.setxor1d(x,y)) "
   ]
  },
  {
   "cell_type": "code",
   "execution_count": 24,
   "metadata": {},
   "outputs": [
    {
     "name": "stdout",
     "output_type": "stream",
     "text": [
      "[1 9 5 4]\n",
      "[5 1 7 2 4 8]\n",
      "[1 2 4 5 7 8 9]\n"
     ]
    }
   ],
   "source": [
    "# 22. Write a NumPy program to find the union of two arrays. Union will return the unique, sorted array of \n",
    "# values that are in either of the two input arrays.\n",
    "\n",
    "x = np.array([1,9,5,4])\n",
    "print(x)\n",
    "y = np.array([5,1,7,2,4,8])\n",
    "print(y)\n",
    "print(np.union1d(x,y))"
   ]
  },
  {
   "cell_type": "code",
   "execution_count": 28,
   "metadata": {},
   "outputs": [
    {
     "name": "stdout",
     "output_type": "stream",
     "text": [
      "False\n",
      "True\n",
      "False\n",
      "True\n"
     ]
    }
   ],
   "source": [
    "# 23. Write a NumPy program to test whether all elements in an array evaluate to True. \n",
    "\n",
    "print(np.all([[True,True],[False,True]]))\n",
    "print(np.all([[True,True,True],[True,True,True]]))\n",
    "print(np.all([0,1,2,3]))\n",
    "print(np.all([1,1,2,3]))\n",
    "#returns true if all values are true"
   ]
  },
  {
   "cell_type": "code",
   "execution_count": 33,
   "metadata": {},
   "outputs": [
    {
     "name": "stdout",
     "output_type": "stream",
     "text": [
      "True\n",
      "True\n",
      "True\n",
      "True\n",
      "False\n"
     ]
    }
   ],
   "source": [
    "# 24. Write a NumPy program to test whether any array element along a given axis evaluates to True.\n",
    "\n",
    "print(np.any([[True,True],[False,True]]))\n",
    "print(np.any([[True,True,True],[True,True,True]]))\n",
    "print(np.any([0,1,2,3]))\n",
    "print(np.any([1,1,2,3]))\n",
    "print(np.any([0,0,0]))"
   ]
  },
  {
   "cell_type": "code",
   "execution_count": 41,
   "metadata": {},
   "outputs": [
    {
     "name": "stdout",
     "output_type": "stream",
     "text": [
      "[3 3]\n",
      "[[3 2 3 2 3 2]\n",
      " [1 0 1 0 1 0]]\n"
     ]
    }
   ],
   "source": [
    "# 25. Write a NumPy program to construct an array by repeating.\n",
    "\n",
    "print(np.tile(3,2))   #repeats '3' 2 times\n",
    "print(np.tile([[3,2],[1,0]], 3))   #repeats each array 3 times"
   ]
  },
  {
   "cell_type": "code",
   "execution_count": 59,
   "metadata": {},
   "outputs": [
    {
     "name": "stdout",
     "output_type": "stream",
     "text": [
      "[3 3]\n",
      "[3 3 3 2 2 2 1 1 1 0 0 0]\n",
      "[[3 3 2 2]\n",
      " [1 1 0 0]]\n",
      "[[3 2]\n",
      " [3 2]\n",
      " [1 0]\n",
      " [1 0]]\n"
     ]
    }
   ],
   "source": [
    "# 26. Write a NumPy program to repeat elements of an array.\n",
    "\n",
    "print(np.repeat(3,2))   #repeats '3' 2 times\n",
    "print(np.repeat([[3,2],[1,0]], 3))   #repeats each element 3 times and return a 1d array\n",
    "print(np.repeat([[3,2],[1,0]], 2, axis = 1)) #repeats each element 2 times along axis = 1 that is columns\n",
    "print(np.repeat([[3,2],[1,0]], 2, axis = 0)) #repeats each element 2 times along axis = 0 that is rows\n",
    "\n",
    "#difference between np.repeat and tile:\n",
    "#np.repeat repeats element of an array\n",
    "#np.tile construct an array by repeating the array the number of times given. "
   ]
  },
  {
   "cell_type": "code",
   "execution_count": 53,
   "metadata": {},
   "outputs": [
    {
     "name": "stdout",
     "output_type": "stream",
     "text": [
      "4 1\n",
      "[0 1] [1 0]\n",
      "[1 1] [0 0]\n"
     ]
    }
   ],
   "source": [
    "# 27. Write a NumPy program to find the indices of the maximum and minimum values along the given axis of an array.\n",
    "  \n",
    "print(np.argmax([3,2,5,6,9]), np.argmin([3,2,5,6,9])) \n",
    "print(np.argmax([[3,2],[0,1]], axis = 1), np.argmin([[3,2],[0,1]], axis = 1)) \n",
    "print(np.argmax([[0,2],[1,3]], axis = 0), np.argmin([[0,2],[1,3]], axis = 0)) "
   ]
  },
  {
   "cell_type": "code",
   "execution_count": 58,
   "metadata": {},
   "outputs": [
    {
     "name": "stdout",
     "output_type": "stream",
     "text": [
      "[False  True False False]\n",
      "[False False  True False]\n",
      "[ True False False  True]\n",
      "[False  True  True False]\n",
      "[ True  True False  True]\n"
     ]
    }
   ],
   "source": [
    "# 28. Write a NumPy program compare two given arrays.\n",
    "\n",
    "x = np.array([1,9,5,4])\n",
    "y = np.array([6,9,0,5])\n",
    "\n",
    "print(np.equal(x,y))\n",
    "print(np.greater(x,y))\n",
    "print(np.less(x,y))\n",
    "print(np.greater_equal(x,y))\n",
    "print(np.less_equal(x,y))"
   ]
  },
  {
   "cell_type": "code",
   "execution_count": 72,
   "metadata": {},
   "outputs": [
    {
     "name": "stdout",
     "output_type": "stream",
     "text": [
      "[[1 9]\n",
      " [2 3]]\n",
      "[[1 3]\n",
      " [2 9]]\n",
      "*****\n",
      "[[2 1]\n",
      " [3 5]]\n",
      "[[1 2]\n",
      " [3 5]]\n",
      "*****\n",
      "[[1 9 3]\n",
      " [2 5 3]]\n",
      "[[1 5 3]\n",
      " [2 9 3]]\n"
     ]
    }
   ],
   "source": [
    "# 29. Write a NumPy program to sort an along the first, last axis of an array. \n",
    "\n",
    "x = np.array([[1,9],[2,3]])\n",
    "print(x)\n",
    "print(np.sort(x, axis = 0))\n",
    "print(\"*****\")\n",
    "y = np.array([[2,1],[3,5]])\n",
    "print(y)\n",
    "print(np.sort(y, axis = 1))\n",
    "print(\"*****\")\n",
    "z = np.array([[1,9,3],[2,5,3]])\n",
    "print(z)\n",
    "print(np.sort(z, axis = 0))"
   ]
  },
  {
   "cell_type": "code",
   "execution_count": 89,
   "metadata": {},
   "outputs": [
    {
     "name": "stdout",
     "output_type": "stream",
     "text": [
      "[3 2 1 0]\n"
     ]
    }
   ],
   "source": [
    "# 30. Write a NumPy program to sort pairs of first name and last name return their indices. (first by last name, \n",
    "# then by first name).\n",
    "\n",
    "x_first = (\"Alisha\",\"Mayank\",\"Meenu\",\"Ajay\")\n",
    "x_last = (\"Rastogi\",\"Khanna\",\"Garg\",\"Garg\")\n",
    "x = np.lexsort((x_first, x_last))\n",
    "# \"Alisha Rastogi\", \"Mayank Khanna\", \"Meenu Garg\", \"Ajay Gupta\" - Pairs of first and last names\n",
    "# lexsort will first sort according to the last key, then second last and so on\n",
    "print(x)"
   ]
  },
  {
   "cell_type": "code",
   "execution_count": 101,
   "metadata": {},
   "outputs": [
    {
     "name": "stdout",
     "output_type": "stream",
     "text": [
      "[11 14 18 91]\n",
      "(array([0, 0, 1, 1]), array([0, 3, 2, 3]))\n"
     ]
    }
   ],
   "source": [
    "# 31. Write a NumPy program to get the values and indices of the elements that are bigger than 10 in a given array.\n",
    "\n",
    "x = np.array([[11,9,5,14],[1,3,18,91]])\n",
    "print(x[x>10])\n",
    "print(np.nonzero(x>10))"
   ]
  },
  {
   "cell_type": "code",
   "execution_count": 106,
   "metadata": {},
   "outputs": [
    {
     "name": "stdout",
     "output_type": "stream",
     "text": [
      "[[1 2]\n",
      " [5 0]]\n"
     ]
    }
   ],
   "source": [
    "# 32. Write a NumPy program to save a NumPy array to a text file.\n",
    "\n",
    "x = np.array([[1,2],[5,0]])\n",
    "print(x)\n",
    "np.savetxt('Array_to_text.txt', x)"
   ]
  },
  {
   "cell_type": "code",
   "execution_count": 112,
   "metadata": {},
   "outputs": [
    {
     "name": "stdout",
     "output_type": "stream",
     "text": [
      "32\n",
      "64\n"
     ]
    }
   ],
   "source": [
    "# 33. Write a NumPy program to find the memory size of a NumPy array.\n",
    "\n",
    "x = np.array([[1,2],[5,0]])\n",
    "print(x.nbytes)\n",
    "\n",
    "y = np.array([1,2,3,4,5,6,7,8])\n",
    "print(y.size * y.itemsize)"
   ]
  },
  {
   "cell_type": "code",
   "execution_count": 119,
   "metadata": {},
   "outputs": [
    {
     "name": "stdout",
     "output_type": "stream",
     "text": [
      "[0 0 0 0]\n",
      "[[1 1 1]\n",
      " [1 1 1]]\n"
     ]
    }
   ],
   "source": [
    "# 34. Write a NumPy program to create an array of ones and an array of zeros. \n",
    "\n",
    "x = np.zeros(4, dtype = np.int)\n",
    "print(x)\n",
    "\n",
    "y = np.ones((2,3), dtype = np.int)\n",
    "print(y)"
   ]
  },
  {
   "cell_type": "code",
   "execution_count": 131,
   "metadata": {},
   "outputs": [
    {
     "name": "stdout",
     "output_type": "stream",
     "text": [
      "[[2 3]\n",
      " [1 0]]\n",
      "[[2]\n",
      " [3]\n",
      " [1]\n",
      " [0]]\n",
      "[[1 2 3]\n",
      " [7 1 0]]\n",
      "(2, 3)\n",
      "[[1 2]\n",
      " [3 7]\n",
      " [1 0]]\n"
     ]
    }
   ],
   "source": [
    "# 35. Write a NumPy program to change the dimension of an array.\n",
    "\n",
    "x = np.array([[2,3],[1,0]])\n",
    "print(x)\n",
    "print(x.reshape(4,1))\n",
    "\n",
    "y = np.array([[1,2,3],[7,1,0]])\n",
    "print(y)\n",
    "print(y.shape)\n",
    "y.shape = (3,2)\n",
    "print(y)"
   ]
  },
  {
   "cell_type": "code",
   "execution_count": 132,
   "metadata": {},
   "outputs": [
    {
     "name": "stdout",
     "output_type": "stream",
     "text": [
      "[[2 3]\n",
      " [1 0]]\n",
      "[2 3 1 0]\n"
     ]
    }
   ],
   "source": [
    "# 36. Write a NumPy program to create a contiguous flattened array. \n",
    "\n",
    "x = np.array([[2,3],[1,0]])\n",
    "print(x)\n",
    "print(np.ravel(x))"
   ]
  },
  {
   "cell_type": "code",
   "execution_count": 148,
   "metadata": {},
   "outputs": [
    {
     "name": "stdout",
     "output_type": "stream",
     "text": [
      "<class 'numpy.ndarray'>\n",
      "(2, 3)\n",
      "int32\n"
     ]
    }
   ],
   "source": [
    "# 37. Write a NumPy program to create a 2-dimensional array of size 2 x 3 (composed of 4-byte integer elements), \n",
    "# also print the shape, type and data type of the array. \n",
    "\n",
    "x = np.array([[1,8,2],[0,4,3]], dtype = np.int32)\n",
    "print(type(x))\n",
    "print(np.shape(x))\n",
    "print(x.dtype)"
   ]
  },
  {
   "cell_type": "code",
   "execution_count": 150,
   "metadata": {},
   "outputs": [
    {
     "name": "stdout",
     "output_type": "stream",
     "text": [
      "[[1 4 9]\n",
      " [0 5 3]]\n",
      "[[1 4]\n",
      " [9 0]\n",
      " [5 3]]\n"
     ]
    }
   ],
   "source": [
    "# 38. Write a NumPy program to create a new shape to an array without changing its data. \n",
    "\n",
    "x = np.array([[1,4,9],[0,5,3]])\n",
    "print(x)\n",
    "print(x.reshape(3,2))"
   ]
  },
  {
   "cell_type": "code",
   "execution_count": 158,
   "metadata": {},
   "outputs": [
    {
     "name": "stdout",
     "output_type": "stream",
     "text": [
      "[[1 4 9]\n",
      " [0 5 3]]\n",
      "int64\n",
      "[[1. 4. 9.]\n",
      " [0. 5. 3.]]\n",
      "float16\n"
     ]
    }
   ],
   "source": [
    "# 39. Write a NumPy program to change the data type of an array. \n",
    "\n",
    "x = np.array([[1,4,9],[0,5,3]])\n",
    "print(x)\n",
    "print(x.dtype)\n",
    "y = x.astype(np.float16)\n",
    "print(y)\n",
    "print(y.dtype)"
   ]
  },
  {
   "cell_type": "code",
   "execution_count": 162,
   "metadata": {},
   "outputs": [
    {
     "name": "stdout",
     "output_type": "stream",
     "text": [
      "[[2 2 2 2 2]\n",
      " [2 2 2 2 2]\n",
      " [2 2 2 2 2]]\n"
     ]
    }
   ],
   "source": [
    "# 40. Write a NumPy program to create a new array of 3*5, filled with 2.\n",
    "\n",
    "x = np.ones((3,5), dtype = np.int16) * 2\n",
    "print(x)"
   ]
  },
  {
   "cell_type": "code",
   "execution_count": null,
   "metadata": {},
   "outputs": [],
   "source": [
    "# 41. "
   ]
  }
 ],
 "metadata": {
  "kernelspec": {
   "display_name": "Python 3",
   "language": "python",
   "name": "python3"
  },
  "language_info": {
   "codemirror_mode": {
    "name": "ipython",
    "version": 3
   },
   "file_extension": ".py",
   "mimetype": "text/x-python",
   "name": "python",
   "nbconvert_exporter": "python",
   "pygments_lexer": "ipython3",
   "version": "3.7.4"
  }
 },
 "nbformat": 4,
 "nbformat_minor": 2
}
