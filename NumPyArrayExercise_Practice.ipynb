{
 "cells": [
  {
   "cell_type": "code",
   "execution_count": 1,
   "metadata": {},
   "outputs": [],
   "source": [
    "import numpy as np"
   ]
  },
  {
   "cell_type": "code",
   "execution_count": 2,
   "metadata": {},
   "outputs": [
    {
     "name": "stdout",
     "output_type": "stream",
     "text": [
      "1.17.2\n"
     ]
    }
   ],
   "source": [
    "# 1. Write a NumPy program to print the NumPy version in your system.\n",
    "\n",
    "print(np.__version__)"
   ]
  },
  {
   "cell_type": "code",
   "execution_count": 5,
   "metadata": {},
   "outputs": [
    {
     "name": "stdout",
     "output_type": "stream",
     "text": [
      "[ 12.23  13.32 100.    36.32]\n"
     ]
    }
   ],
   "source": [
    "# 2. Write a NumPy program to convert a list of numeric value into a one-dimensional NumPy array.\n",
    "\n",
    "lst = [12.23, 13.32, 100, 36.32]\n",
    "print(np.array(lst))"
   ]
  },
  {
   "cell_type": "code",
   "execution_count": 7,
   "metadata": {},
   "outputs": [
    {
     "name": "stdout",
     "output_type": "stream",
     "text": [
      "[[ 2  3  4]\n",
      " [ 5  6  7]\n",
      " [ 8  9 10]]\n"
     ]
    }
   ],
   "source": [
    "# 3. Write a NumPy program to create a 3x3 matrix with values ranging from 2 to 10. \n",
    "\n",
    "x = np.arange(2,11).reshape(3,3)\n",
    "print(x)"
   ]
  },
  {
   "cell_type": "code",
   "execution_count": 12,
   "metadata": {},
   "outputs": [
    {
     "name": "stdout",
     "output_type": "stream",
     "text": [
      "[0. 0. 0. 0. 0. 0. 0. 0. 0. 0.]\n",
      "[ 0.  0.  0.  0.  0.  0. 11.  0.  0.  0.]\n"
     ]
    }
   ],
   "source": [
    "# 4. Write a NumPy program to create a null vector of size 10 and update sixth value to 11.\n",
    "\n",
    "x = np.zeros(10)\n",
    "print(x)\n",
    "x[6] = 11\n",
    "print(x)"
   ]
  },
  {
   "cell_type": "code",
   "execution_count": 14,
   "metadata": {},
   "outputs": [
    {
     "name": "stdout",
     "output_type": "stream",
     "text": [
      "[12 13 14 15 16 17 18 19 20 21 22 23 24 25 26 27 28 29 30 31 32 33 34 35\n",
      " 36 37 38]\n"
     ]
    }
   ],
   "source": [
    "# 5. Write a NumPy program to create an array with values ranging from 12 to 38.\n",
    "\n",
    "x = np.arange(12,39)\n",
    "print(x)"
   ]
  },
  {
   "cell_type": "code",
   "execution_count": 22,
   "metadata": {},
   "outputs": [
    {
     "name": "stdout",
     "output_type": "stream",
     "text": [
      "[1 2 0 9 6 4]\n",
      "[4 6 9 0 2 1]\n"
     ]
    }
   ],
   "source": [
    "# 6. Write a NumPy program to reverse an array (first element becomes last).\n",
    "\n",
    "x = np.array([1,2,0,9,6,4])\n",
    "print(x)\n",
    "print(x[::-1])"
   ]
  },
  {
   "cell_type": "code",
   "execution_count": 28,
   "metadata": {},
   "outputs": [
    {
     "name": "stdout",
     "output_type": "stream",
     "text": [
      "[18 25 10 19 61 14]\n",
      "[18. 25. 10. 19. 61. 14.]\n",
      "[18 25 10 19 61 14]\n"
     ]
    }
   ],
   "source": [
    "# 7. Write a NumPy program to convert an array to a float type.\n",
    "\n",
    "x = np.array([18,25,10,19,61,14])\n",
    "print(x)\n",
    "print(x.astype('float32'))"
   ]
  },
  {
   "cell_type": "code",
   "execution_count": 40,
   "metadata": {},
   "outputs": [
    {
     "name": "stdout",
     "output_type": "stream",
     "text": [
      "[[1. 1. 1. 1.]\n",
      " [1. 1. 1. 1.]\n",
      " [1. 1. 1. 1.]\n",
      " [1. 1. 1. 1.]]\n",
      "[[0. 0.]\n",
      " [0. 0.]]\n",
      "[[1. 1. 1. 1.]\n",
      " [1. 0. 0. 1.]\n",
      " [1. 0. 0. 1.]\n",
      " [1. 1. 1. 1.]]\n"
     ]
    }
   ],
   "source": [
    "# 8. Write a NumPy program to create a 2d array with 1 on the border and 0 inside. \n",
    "\n",
    "x = np.ones(16).reshape(4,4)\n",
    "print(x)\n",
    "y = np.zeros(4).reshape(2,2)\n",
    "print(y)\n",
    "x[1:3,1:3] = y\n",
    "print(x)"
   ]
  },
  {
   "cell_type": "code",
   "execution_count": 42,
   "metadata": {},
   "outputs": [
    {
     "name": "stdout",
     "output_type": "stream",
     "text": [
      "[[1. 1. 1. 1.]\n",
      " [1. 1. 1. 1.]\n",
      " [1. 1. 1. 1.]\n",
      " [1. 1. 1. 1.]]\n",
      "[[0. 0. 0. 0. 0. 0.]\n",
      " [0. 1. 1. 1. 1. 0.]\n",
      " [0. 1. 1. 1. 1. 0.]\n",
      " [0. 1. 1. 1. 1. 0.]\n",
      " [0. 1. 1. 1. 1. 0.]\n",
      " [0. 0. 0. 0. 0. 0.]]\n"
     ]
    }
   ],
   "source": [
    "# 9. Write a NumPy program to add a border (filled with 0's) around an existing array. \n",
    "\n",
    "x = np.ones(16).reshape(4,4)\n",
    "print(x)\n",
    "x = np.pad(x, pad_width = 1, mode = 'constant', constant_values = 0)\n",
    "print(x)"
   ]
  },
  {
   "cell_type": "code",
   "execution_count": 51,
   "metadata": {},
   "outputs": [
    {
     "name": "stdout",
     "output_type": "stream",
     "text": [
      "[[0. 1. 0. 1. 0. 1. 0. 1.]\n",
      " [1. 0. 1. 0. 1. 0. 1. 0.]\n",
      " [0. 1. 0. 1. 0. 1. 0. 1.]\n",
      " [1. 0. 1. 0. 1. 0. 1. 0.]\n",
      " [0. 1. 0. 1. 0. 1. 0. 1.]\n",
      " [1. 0. 1. 0. 1. 0. 1. 0.]\n",
      " [0. 1. 0. 1. 0. 1. 0. 1.]\n",
      " [1. 0. 1. 0. 1. 0. 1. 0.]]\n"
     ]
    }
   ],
   "source": [
    "# 10. Write a NumPy program to create a 8x8 matrix and fill it with a checkerboard pattern. \n",
    "\n",
    "x = np.zeros(64).reshape(8,8)\n",
    "#print(x)\n",
    "x[::2,1::2] = 1\n",
    "x[1::2,::2] = 1\n",
    "print(x)"
   ]
  },
  {
   "cell_type": "code",
   "execution_count": 56,
   "metadata": {},
   "outputs": [
    {
     "name": "stdout",
     "output_type": "stream",
     "text": [
      "[1 2 7 0 4 8]\n",
      "['1' 'ankur' 'c']\n",
      "[2.5 7.  3.2]\n",
      "[[1 2 5]\n",
      " [3 0 9]]\n"
     ]
    }
   ],
   "source": [
    "# 11. Write a NumPy program to convert a list and tuple into arrays.\n",
    "\n",
    "lst = [1,2,7,0,4,8]\n",
    "print(np.array(lst))\n",
    "#print(np.asarray(lst)) \n",
    "\n",
    "tpl_1 = [1, \"ankur\", \"c\"]\n",
    "tpl_2 = [2.5, 7, 3.2]\n",
    "tpl_3 = ([1,2,5],[3,0,9])\n",
    "print(np.array(tpl_1))\n",
    "print(np.array(tpl_2))\n",
    "print(np.array(tpl_3))"
   ]
  },
  {
   "cell_type": "code",
   "execution_count": 60,
   "metadata": {},
   "outputs": [
    {
     "name": "stdout",
     "output_type": "stream",
     "text": [
      "[1 7 8 4]\n",
      "[ 5  9 11]\n",
      "[ 1  7  8  4  5  9 11]\n",
      "[ 5  9 11  1  7  8  4]\n"
     ]
    }
   ],
   "source": [
    "# 12. Write a NumPy program to append values to the end of an array. \n",
    "\n",
    "x = np.array([1,7,8,4])\n",
    "y = np.array([5,9,11])\n",
    "print(x)\n",
    "print(y)\n",
    "z1 = np.append(x,y)\n",
    "z2 = np.append(y,x)\n",
    "print(z1)\n",
    "print(z2)"
   ]
  },
  {
   "cell_type": "code",
   "execution_count": 65,
   "metadata": {},
   "outputs": [
    {
     "name": "stdout",
     "output_type": "stream",
     "text": [
      "[[4.9e-324 9.9e-324 2.5e-323]\n",
      " [1.5e-323 0.0e+000 4.4e-323]]\n",
      "[[4 4 4]\n",
      " [4 4 4]]\n"
     ]
    }
   ],
   "source": [
    "# 13. Write a NumPy program to create an empty and a full array. \n",
    "\n",
    "x = np.empty((2,3))\n",
    "print(x)\n",
    "y = np.full((2,3),4)\n",
    "print(y)"
   ]
  },
  {
   "cell_type": "code",
   "execution_count": 69,
   "metadata": {},
   "outputs": [
    {
     "name": "stdout",
     "output_type": "stream",
     "text": [
      "Centigrade degrees:  [ 32 109  67] degrees C\n",
      "Fahrenheit degrees:  [ 89.6 228.2 152.6] degrees F\n"
     ]
    }
   ],
   "source": [
    "# 14. Write a NumPy program to convert the values of Centigrade degrees into Fahrenheit degrees. Centigrade values \n",
    "# are stored into a NumPy array.\n",
    "\n",
    "x = np.array([32,109,67])\n",
    "print(\"Centigrade degrees: \", x, \"degrees C\")\n",
    "y = (x * 1.8) + 32\n",
    "print(\"Fahrenheit degrees: \", y, \"degrees F\")"
   ]
  },
  {
   "cell_type": "code",
   "execution_count": 72,
   "metadata": {},
   "outputs": [
    {
     "name": "stdout",
     "output_type": "stream",
     "text": [
      "[1.+2.j]\n",
      "[1.]\n",
      "[2.]\n",
      "[[2.+3.j]\n",
      " [4.+6.j]]\n",
      "[[2.]\n",
      " [4.]]\n",
      "[[3.]\n",
      " [6.]]\n"
     ]
    }
   ],
   "source": [
    "# 15. Write a NumPy program to find the real and imaginary parts of an array of complex numbers. \n",
    "\n",
    "x = np.array([1+2j])\n",
    "print(x)\n",
    "print(x.real)\n",
    "print(x.imag)\n",
    "\n",
    "y = np.array([[2+3j],[4+6j]])\n",
    "print(y)\n",
    "print(y.real)\n",
    "print(y.imag)"
   ]
  },
  {
   "cell_type": "code",
   "execution_count": 79,
   "metadata": {},
   "outputs": [
    {
     "name": "stdout",
     "output_type": "stream",
     "text": [
      "[[2 5]\n",
      " [4 6]]\n",
      "Number of elements in the array: 4\n",
      "Length of one array element: 8 bytes\n",
      "Total bytes consumed by the array elements 32 bytes\n"
     ]
    }
   ],
   "source": [
    "# 16. Write a NumPy program to find the number of elements of an array, length of one array element in bytes \n",
    "# and total bytes consumed by the elements. \n",
    "\n",
    "x = np.array([[2,5],[4,6]])\n",
    "print(x)\n",
    "print(\"Number of elements in the array:\" , x.size)\n",
    "print(\"Length of one array element:\", x.itemsize, \"bytes\")\n",
    "print(\"Total bytes consumed by the array elements\", x.nbytes, \"bytes\")"
   ]
  },
  {
   "cell_type": "code",
   "execution_count": 87,
   "metadata": {},
   "outputs": [
    {
     "name": "stdout",
     "output_type": "stream",
     "text": [
      "[1 9 5 4]\n",
      "[5 1 7 2 4 8]\n",
      "[ True False  True  True]\n"
     ]
    }
   ],
   "source": [
    "# 17. Write a NumPy program to test whether each element of a 1-D array is also present in a second array.\n",
    "\n",
    "x = np.array([1,9,5,4])\n",
    "print(x)\n",
    "y = np.array([5,1,7,2,4,8])\n",
    "print(y)\n",
    "print(np.in1d(x,y)) "
   ]
  },
  {
   "cell_type": "code",
   "execution_count": 89,
   "metadata": {},
   "outputs": [
    {
     "name": "stdout",
     "output_type": "stream",
     "text": [
      "[1 9 5 4]\n",
      "[5 1 7 2 4 8]\n",
      "[1 4 5]\n"
     ]
    }
   ],
   "source": [
    "# 18. Write a NumPy program to find common values between two arrays. \n",
    "\n",
    "x = np.array([1,9,5,4])\n",
    "print(x)\n",
    "y = np.array([5,1,7,2,4,8])\n",
    "print(y)\n",
    "print(np.intersect1d(x,y))"
   ]
  },
  {
   "cell_type": "code",
   "execution_count": 94,
   "metadata": {},
   "outputs": [
    {
     "name": "stdout",
     "output_type": "stream",
     "text": [
      "[1 9 5 4 9 1]\n",
      "[1 4 5 9]\n",
      "[[1 9 5]\n",
      " [4 9 1]]\n",
      "[1 4 5 9]\n"
     ]
    }
   ],
   "source": [
    "# 19. Write a NumPy program to get the unique elements of an array.\n",
    "\n",
    "x = np.array([1,9,5,4,9,1])\n",
    "print(x)\n",
    "print(np.unique(x))\n",
    "\n",
    "\n",
    "y = np.array([[1,9,5],[4,9,1]])\n",
    "print(y)\n",
    "print(np.unique(y))"
   ]
  },
  {
   "cell_type": "code",
   "execution_count": 97,
   "metadata": {},
   "outputs": [
    {
     "name": "stdout",
     "output_type": "stream",
     "text": [
      "[1 9 5 4]\n",
      "[5 1 7 2 4 8]\n",
      "[9]\n",
      "[2 7 8]\n"
     ]
    }
   ],
   "source": [
    "# 20. Write a NumPy program to find the set difference of two arrays. The set difference will return the sorted, \n",
    "# unique values in array1 that are not in array2.\n",
    "\n",
    "x = np.array([1,9,5,4])\n",
    "print(x)\n",
    "y = np.array([5,1,7,2,4,8])\n",
    "print(y)\n",
    "print(np.setdiff1d(x,y)) #elements which are in x but not in y\n",
    "print(np.setdiff1d(y,x)) #elements which are in y but not in x"
   ]
  }
 ],
 "metadata": {
  "kernelspec": {
   "display_name": "Python 3",
   "language": "python",
   "name": "python3"
  },
  "language_info": {
   "codemirror_mode": {
    "name": "ipython",
    "version": 3
   },
   "file_extension": ".py",
   "mimetype": "text/x-python",
   "name": "python",
   "nbconvert_exporter": "python",
   "pygments_lexer": "ipython3",
   "version": "3.7.4"
  }
 },
 "nbformat": 4,
 "nbformat_minor": 2
}
